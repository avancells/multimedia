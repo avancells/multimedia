{
 "cells": [
  {
   "cell_type": "code",
   "execution_count": 8,
   "metadata": {},
   "outputs": [
    {
     "name": "stdout",
     "output_type": "stream",
     "text": [
      "java -jar dist/ProjectePractiques.jar -i zips/Cubo.zip --batch 1 --encode 1 --decode 1 --tileSize 8 --threshold 13 --seekRange 4 --gop 2\n",
      "java -jar dist/ProjectePractiques.jar -i zips/Cubo.zip --batch 1 --encode 1 --decode 1 --tileSize 8 --threshold 13 --seekRange 4 --gop 4\n",
      "java -jar dist/ProjectePractiques.jar -i zips/Cubo.zip --batch 1 --encode 1 --decode 1 --tileSize 8 --threshold 13 --seekRange 4 --gop 6\n",
      "java -jar dist/ProjectePractiques.jar -i zips/Cubo.zip --batch 1 --encode 1 --decode 1 --tileSize 8 --threshold 13 --seekRange 9 --gop 2\n",
      "java -jar dist/ProjectePractiques.jar -i zips/Cubo.zip --batch 1 --encode 1 --decode 1 --tileSize 8 --threshold 13 --seekRange 9 --gop 4\n",
      "java -jar dist/ProjectePractiques.jar -i zips/Cubo.zip --batch 1 --encode 1 --decode 1 --tileSize 8 --threshold 13 --seekRange 9 --gop 6\n",
      "java -jar dist/ProjectePractiques.jar -i zips/Cubo.zip --batch 1 --encode 1 --decode 1 --tileSize 8 --threshold 25 --seekRange 4 --gop 2\n",
      "java -jar dist/ProjectePractiques.jar -i zips/Cubo.zip --batch 1 --encode 1 --decode 1 --tileSize 8 --threshold 25 --seekRange 4 --gop 4\n",
      "java -jar dist/ProjectePractiques.jar -i zips/Cubo.zip --batch 1 --encode 1 --decode 1 --tileSize 8 --threshold 25 --seekRange 4 --gop 6\n",
      "java -jar dist/ProjectePractiques.jar -i zips/Cubo.zip --batch 1 --encode 1 --decode 1 --tileSize 8 --threshold 25 --seekRange 9 --gop 2\n",
      "java -jar dist/ProjectePractiques.jar -i zips/Cubo.zip --batch 1 --encode 1 --decode 1 --tileSize 8 --threshold 25 --seekRange 9 --gop 4\n",
      "java -jar dist/ProjectePractiques.jar -i zips/Cubo.zip --batch 1 --encode 1 --decode 1 --tileSize 8 --threshold 25 --seekRange 9 --gop 6\n"
     ]
    }
   ],
   "source": [
    "jarfile = \"dist/ProjectePractiques.jar\"\n",
    "input_file = \"zips/Cubo.zip\"\n",
    "batch = 1\n",
    "encode = 1\n",
    "decode = 1\n",
    "\n",
    "tilesize = [8]\n",
    "threshold = [13, 25]\n",
    "seek_range = [4, 9]\n",
    "gop = [2, 4, 6]\n",
    "\n",
    "for ts in tilesize:\n",
    "    for thrs in threshold:\n",
    "        for sr in seek_range:\n",
    "            for gp in gop:\n",
    "                print(\"java -jar \" + jarfile +   \" -i \" + input_file + \" --batch \" + str(batch) + \" --encode \" + str(encode) \n",
    "                      + \" --decode \" + str(decode) + \" --tileSize \" + str(ts) + \" --threshold \" + str(thrs) \n",
    "                      + \" --seekRange \" + str(sr) + \" --gop \" +  str(gp))\n",
    "\n",
    "\n"
   ]
  },
  {
   "cell_type": "code",
   "execution_count": null,
   "metadata": {},
   "outputs": [],
   "source": [
    "code 1 --tileSize 8 --threshold 13 --seekRange 9 --gop 4 --fps 30 --decoAvg 1 "
   ]
  }
 ],
 "metadata": {
  "kernelspec": {
   "display_name": "Python 3",
   "language": "python",
   "name": "python3"
  },
  "language_info": {
   "codemirror_mode": {
    "name": "ipython",
    "version": 3
   },
   "file_extension": ".py",
   "mimetype": "text/x-python",
   "name": "python",
   "nbconvert_exporter": "python",
   "pygments_lexer": "ipython3",
   "version": "3.7.0"
  }
 },
 "nbformat": 4,
 "nbformat_minor": 2
}
