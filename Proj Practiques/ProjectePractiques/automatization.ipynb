{
 "cells": [
  {
   "cell_type": "code",
   "execution_count": null,
   "metadata": {},
   "outputs": [],
   "source": [
    "input_file = \"zips/Cubo.zip\"\n",
    "batch = 1\n",
    "encode = 1\n",
    "decode = 1\n",
    "\n",
    "tilesize = [8, 16]\n",
    "threshold = [2, 4, 6, 8, 10, 13, 16, 19, 21, 25]\n",
    "seek_range = [1, 2, 3, 4, 5, 6, 7, 8, 9]\n",
    "gop = [2, 3, 4, 5, 6, 7, 8, 9, 10]\n",
    "\n",
    "for ts in tilesize:\n",
    "    for thrs in threshold:\n",
    "        for sr in seek_range:\n",
    "            for gp in gop:\n",
    "                print(\"java -jar -i \" + input_file + \" --batch \" + batch + \" --encode \" + encode \n",
    "                      + \" --decode \" + decode + \" --tileSize \" + ts + \" --threshold \" + thrs \n",
    "                      + \" --seekRange \" + sr + \" --gop \" +  gp)\n",
    "\n",
    "\n"
   ]
  },
  {
   "cell_type": "code",
   "execution_count": null,
   "metadata": {},
   "outputs": [],
   "source": [
    "code 1 --tileSize 8 --threshold 13 --seekRange 9 --gop 4 --fps 30 --decoAvg 1 "
   ]
  }
 ],
 "metadata": {
  "kernelspec": {
   "display_name": "Python 3",
   "language": "python",
   "name": "python3"
  },
  "language_info": {
   "codemirror_mode": {
    "name": "ipython",
    "version": 3
   },
   "file_extension": ".py",
   "mimetype": "text/x-python",
   "name": "python",
   "nbconvert_exporter": "python",
   "pygments_lexer": "ipython3",
   "version": "3.7.0"
  }
 },
 "nbformat": 4,
 "nbformat_minor": 2
}
